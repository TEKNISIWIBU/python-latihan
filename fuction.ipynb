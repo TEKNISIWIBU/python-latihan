{
  "nbformat": 4,
  "nbformat_minor": 0,
  "metadata": {
    "colab": {
      "provenance": [],
      "authorship_tag": "ABX9TyPLWw7xuozo4aHdVoHWUf5s",
      "include_colab_link": true
    },
    "kernelspec": {
      "name": "python3",
      "display_name": "Python 3"
    },
    "language_info": {
      "name": "python"
    }
  },
  "cells": [
    {
      "cell_type": "markdown",
      "metadata": {
        "id": "view-in-github",
        "colab_type": "text"
      },
      "source": [
        "<a href=\"https://colab.research.google.com/github/TEKNISIWIBU/python-latihan/blob/main/fuction.ipynb\" target=\"_parent\"><img src=\"https://colab.research.google.com/assets/colab-badge.svg\" alt=\"Open In Colab\"/></a>"
      ]
    },
    {
      "cell_type": "code",
      "execution_count": 6,
      "metadata": {
        "colab": {
          "base_uri": "https://localhost:8080/"
        },
        "id": "ODbUz1hbKbcS",
        "outputId": "5cc9debb-045f-48e7-c737-4d5c5efaebcd"
      },
      "outputs": [
        {
          "output_type": "execute_result",
          "data": {
            "text/plain": [
              "(2144.660584850632, 804.247719318987)"
            ]
          },
          "metadata": {},
          "execution_count": 6
        }
      ],
      "source": [
        "from numpy import pi\n",
        "def rumus_bola(r):\n",
        " V = (4/3)*pi*r**3\n",
        " A = 4*pi*r**2\n",
        " return V,A\n",
        "\n",
        "rumus_bola(8)"
      ]
    }
  ]
}